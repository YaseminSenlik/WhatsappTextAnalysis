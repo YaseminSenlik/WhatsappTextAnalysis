{
 "cells": [
  {
   "cell_type": "code",
   "execution_count": 1,
   "metadata": {},
   "outputs": [],
   "source": [
    "import re\n",
    "import pandas as pd\n",
    "import matplotlib.pyplot as plt\n",
    "import emoji"
   ]
  },
  {
   "cell_type": "code",
   "execution_count": 2,
   "metadata": {},
   "outputs": [],
   "source": [
    "file = open(r'whatsapp_conv.txt',mode='r',encoding=\"utf8\")\n",
    "data = file.read()\n",
    "file.close()"
   ]
  },
  {
   "cell_type": "code",
   "execution_count": 3,
   "metadata": {},
   "outputs": [],
   "source": [
    "data_line = data.splitlines() #read text line by line\n",
    "df = pd.DataFrame({'index':[i for i in range(len(data_line))], 'text':data_line}) #creating a data frame which includes text row and index"
   ]
  },
  {
   "cell_type": "code",
   "execution_count": 4,
   "metadata": {},
   "outputs": [],
   "source": [
    "#getting index of deleted rows\n",
    "deleted_cols = []\n",
    "for i in range(len(df)-1):\n",
    "    if df[\"text\"][i].find(\"‎Location:\")!=-1 or df[\"text\"][i].find(\"https:\")!=-1:\n",
    "        deleted_cols.append(df[\"index\"][i])"
   ]
  },
  {
   "cell_type": "code",
   "execution_count": 5,
   "metadata": {},
   "outputs": [],
   "source": [
    "#deleting rows which includes Location and https: strings\n",
    "for i in deleted_cols:\n",
    "    df=df.drop(i)"
   ]
  },
  {
   "cell_type": "code",
   "execution_count": 6,
   "metadata": {},
   "outputs": [],
   "source": [
    "#removing the following characters in data\n",
    "data = str(df[\"text\"].to_list())\n",
    "data = data.replace(\",\",\"\")\n",
    "data = data.replace(\"\\'\", \"\")\n",
    "data = data.replace(\"\\\\\", \"\")"
   ]
  },
  {
   "cell_type": "code",
   "execution_count": 7,
   "metadata": {},
   "outputs": [],
   "source": [
    "#getting sender pattern on data by using following regular expression\n",
    "pattern = re.compile('\\d+.\\d+.\\d+\\s+\\d+:+\\d+:+\\d+\\s+([a-zA-Z0-9]+\\s?[a-zA-Z0-9]+\\s?[a-zA-Z0-9]+\\s?):')\n",
    "messengers = re.findall(pattern,data)"
   ]
  },
  {
   "cell_type": "code",
   "execution_count": 8,
   "metadata": {},
   "outputs": [
    {
     "data": {
      "text/plain": [
       "{'Yasemin Senlik': 13420, 'Azal': 13306}"
      ]
     },
     "execution_count": 8,
     "metadata": {},
     "output_type": "execute_result"
    }
   ],
   "source": [
    "#counts of text which is sender based\n",
    "sender_cnt = pd.DataFrame({'sender':messengers})\n",
    "sender = sender_cnt['sender'].value_counts()\n",
    "dict(sender)"
   ]
  },
  {
   "cell_type": "code",
   "execution_count": 9,
   "metadata": {},
   "outputs": [],
   "source": [
    "#getting hour pattern on data by using following regular expression \n",
    "hour_pattern = '\\d+:+\\d+:\\d+'\n",
    "hour = re.findall(hour_pattern,data)"
   ]
  },
  {
   "cell_type": "code",
   "execution_count": 10,
   "metadata": {},
   "outputs": [],
   "source": [
    "#getting date pattern on data by using following regular expression\n",
    "date_pattern = '\\d+.\\d+.\\d{4}'\n",
    "date = re.findall(date_pattern,data)"
   ]
  },
  {
   "cell_type": "code",
   "execution_count": 11,
   "metadata": {},
   "outputs": [],
   "source": [
    "date_new=[]\n",
    "for i in date:\n",
    "    if len(i)==9 or len(i)==10:\n",
    "        date_new.append(i)"
   ]
  },
  {
   "cell_type": "code",
   "execution_count": 12,
   "metadata": {},
   "outputs": [],
   "source": [
    "#unique dates\n",
    "date_new_unq = list(set(date_new))"
   ]
  },
  {
   "cell_type": "code",
   "execution_count": 13,
   "metadata": {},
   "outputs": [
    {
     "data": {
      "text/plain": [
       "13.11.2019    439\n",
       "13.03.2020    399\n",
       "15.04.2020    377\n",
       "10.03.2020    320\n",
       "18.11.2019    316\n",
       "Name: date, dtype: int64"
      ]
     },
     "execution_count": 13,
     "metadata": {},
     "output_type": "execute_result"
    }
   ],
   "source": [
    "#counts of text which is date based\n",
    "date_cnt = pd.DataFrame({'date':date_new})\n",
    "dates = date_cnt['date'].value_counts()\n",
    "dates.head(5)\n"
   ]
  },
  {
   "cell_type": "code",
   "execution_count": 14,
   "metadata": {},
   "outputs": [],
   "source": [
    "month=[]\n",
    "cnt =0\n",
    "for i in range(len(date_new)):\n",
    "    if i == 616 or i ==888 or i==10951:\n",
    "        continue\n",
    "    else:\n",
    "        month.append(date_new[i].split(\".\")[1])\n",
    "        "
   ]
  },
  {
   "cell_type": "code",
   "execution_count": 15,
   "metadata": {},
   "outputs": [
    {
     "data": {
      "text/plain": [
       "03    6080\n",
       "04    5321\n",
       "11    4025\n",
       "Name: month, dtype: int64"
      ]
     },
     "execution_count": 15,
     "metadata": {},
     "output_type": "execute_result"
    }
   ],
   "source": [
    "#counts of text which is month based\n",
    "month_cnt = pd.DataFrame({'month':month})\n",
    "months = month_cnt['month'].value_counts()\n",
    "months.head(3)"
   ]
  },
  {
   "cell_type": "code",
   "execution_count": 17,
   "metadata": {},
   "outputs": [],
   "source": [
    "hours_new = []\n",
    "for i in range(0,len(hour)-1):\n",
    "    hours_new.append(hour[i][0:2])\n",
    "    "
   ]
  },
  {
   "cell_type": "code",
   "execution_count": 18,
   "metadata": {},
   "outputs": [
    {
     "data": {
      "image/png": "[encoded data removed]",
      "text/plain": [
       "<Figure size 432x288 with 1 Axes>"
      ]
     },
     "metadata": {
      "needs_background": "light"
     },
     "output_type": "display_data"
    }
   ],
   "source": [
    "##counts of text which is hour based\n",
    "time = pd.DataFrame({'hours':hours_new})\n",
    "hours = time['hours'].value_counts()\n",
    "hours.sort_index(inplace=True)\n",
    "plt.axes([0,0,1,1])\n",
    "hours.plot.bar(color='b', width=0.5)\n",
    "plt.xlabel('hour')\n",
    "plt.ylabel('count of messages')\n",
    "plt.show()"
   ]
  },
  {
   "cell_type": "code",
   "execution_count": 19,
   "metadata": {},
   "outputs": [
    {
     "data": {
      "text/plain": [
       "23    2277\n",
       "22    2266\n",
       "18    2158\n",
       "16    2035\n",
       "19    2032\n",
       "Name: hours, dtype: int64"
      ]
     },
     "execution_count": 19,
     "metadata": {},
     "output_type": "execute_result"
    }
   ],
   "source": [
    "hours.sort_values(ascending=False).head(5)"
   ]
  },
  {
   "cell_type": "code",
   "execution_count": 20,
   "metadata": {},
   "outputs": [],
   "source": [
    "def extract_emojis(str):\n",
    "  return ''.join(c for c in str if c in emoji.UNICODE_EMOJI)"
   ]
  },
  {
   "cell_type": "code",
   "execution_count": 21,
   "metadata": {},
   "outputs": [],
   "source": [
    "emojis = list(extract_emojis(data))"
   ]
  },
  {
   "cell_type": "code",
   "execution_count": 22,
   "metadata": {},
   "outputs": [
    {
     "data": {
      "text/plain": [
       "😘    614\n",
       "😂    572\n",
       "🙄    539\n",
       "😐    224\n",
       "😕    136\n",
       "Name: emojis, dtype: int64"
      ]
     },
     "execution_count": 22,
     "metadata": {},
     "output_type": "execute_result"
    }
   ],
   "source": [
    "#top 5 of emojis\n",
    "emojis_new = pd.DataFrame({'emojis':emojis})\n",
    "emojis_value_count = emojis_new['emojis'].value_counts()\n",
    "emojis_value_count.sort_values(ascending=False).head(5)"
   ]
  },
  {
   "cell_type": "code",
   "execution_count": 23,
   "metadata": {},
   "outputs": [],
   "source": [
    "data_split=data.split()"
   ]
  },
  {
   "cell_type": "code",
   "execution_count": 24,
   "metadata": {},
   "outputs": [],
   "source": [
    "#creating new data without hour\n",
    "new_data=[]\n",
    "for i in data_split:\n",
    "    if i not in hour:\n",
    "        new_data.append(i)"
   ]
  },
  {
   "cell_type": "code",
   "execution_count": 25,
   "metadata": {},
   "outputs": [],
   "source": [
    "#creating new data without date\n",
    "new_data_without_date = []\n",
    "for i in new_data:\n",
    "    if i not in date_new_unq:\n",
    "        new_data_without_date.append(i) "
   ]
  },
  {
   "cell_type": "code",
   "execution_count": 26,
   "metadata": {},
   "outputs": [],
   "source": [
    "from nltk.corpus import stopwords\n",
    "stop_words =set(stopwords.words('english'))"
   ]
  },
  {
   "cell_type": "code",
   "execution_count": 27,
   "metadata": {},
   "outputs": [],
   "source": [
    "#all words are lower case\n",
    "new_data_low = [word.lower() for word in new_data_without_date ]"
   ]
  },
  {
   "cell_type": "code",
   "execution_count": 28,
   "metadata": {},
   "outputs": [],
   "source": [
    "#removing stop words\n",
    "new_data_filtered = [word for word in new_data_low if word not in stop_words]"
   ]
  },
  {
   "cell_type": "code",
   "execution_count": 29,
   "metadata": {},
   "outputs": [
    {
     "data": {
      "text/plain": [
       "u         1460\n",
       "gonna     1163\n",
       "babe      1092\n",
       "good       721\n",
       "home       639\n",
       "go         607\n",
       "love       568\n",
       "miss       528\n",
       "that’s     526\n",
       ":)         518\n",
       "Name: word, dtype: int64"
      ]
     },
     "execution_count": 29,
     "metadata": {},
     "output_type": "execute_result"
    }
   ],
   "source": [
    "#word counts\n",
    "word_cnt = pd.DataFrame({'word':new_data_filtered})\n",
    "word_cnt = word_cnt[word_cnt[\"word\"]!=\"omitted\"]\n",
    "word_cnt = word_cnt[word_cnt[\"word\"]!=\"u200eimage\"]\n",
    "words = word_cnt['word'].value_counts()\n",
    "words[3:].head(10)"
   ]
  }
 ],
 "metadata": {
  "kernelspec": {
   "display_name": "Python 3",
   "language": "python",
   "name": "python3"
  },
  "language_info": {
   "codemirror_mode": {
    "name": "ipython",
    "version": 3
   },
   "file_extension": ".py",
   "mimetype": "text/x-python",
   "name": "python",
   "nbconvert_exporter": "python",
   "pygments_lexer": "ipython3",
   "version": "3.7.4"
  }
 },
 "nbformat": 4,
 "nbformat_minor": 2
}
